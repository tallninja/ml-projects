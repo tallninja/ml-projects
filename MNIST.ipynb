{
  "nbformat": 4,
  "nbformat_minor": 0,
  "metadata": {
    "colab": {
      "name": "MNIST.ipynb",
      "provenance": [],
      "collapsed_sections": [],
      "authorship_tag": "ABX9TyOWOZqU1Oon+c2IPeGMCbE7",
      "include_colab_link": true
    },
    "kernelspec": {
      "name": "python3",
      "display_name": "Python 3"
    },
    "language_info": {
      "name": "python"
    }
  },
  "cells": [
    {
      "cell_type": "markdown",
      "metadata": {
        "id": "view-in-github",
        "colab_type": "text"
      },
      "source": [
        "<a href=\"https://colab.research.google.com/github/tallninja/ml-projects/blob/master/MNIST.ipynb\" target=\"_parent\"><img src=\"https://colab.research.google.com/assets/colab-badge.svg\" alt=\"Open In Colab\"/></a>"
      ]
    },
    {
      "cell_type": "markdown",
      "source": [
        "## My First Neural Network\n",
        "\n",
        "In this neural network I'll be using the MNIST dataset since it is the \"Hello World\" of AI "
      ],
      "metadata": {
        "id": "bWDzUcPRlQUk"
      }
    },
    {
      "cell_type": "markdown",
      "source": [
        "### Step 1: Load the dataset "
      ],
      "metadata": {
        "id": "4oDhDgf-l3cT"
      }
    },
    {
      "cell_type": "code",
      "execution_count": 2,
      "metadata": {
        "colab": {
          "base_uri": "https://localhost:8080/"
        },
        "id": "kYzY36huk36J",
        "outputId": "4f974a95-2a13-4292-921e-7a414791aefc"
      },
      "outputs": [
        {
          "output_type": "stream",
          "name": "stdout",
          "text": [
            "Downloading data from https://storage.googleapis.com/tensorflow/tf-keras-datasets/mnist.npz\n",
            "11493376/11490434 [==============================] - 0s 0us/step\n",
            "11501568/11490434 [==============================] - 0s 0us/step\n"
          ]
        }
      ],
      "source": [
        "from tensorflow.keras.datasets import mnist\n",
        "(train_images, train_labels), (test_images, test_labels) = mnist.load_data()"
      ]
    },
    {
      "cell_type": "markdown",
      "source": [
        "### Step 2: Inspect the dataset"
      ],
      "metadata": {
        "id": "Fryj4QelmXyr"
      }
    },
    {
      "cell_type": "code",
      "source": [
        "# Training data\n",
        "ntrain_images = len(train_images) # number of training images\n",
        "strain_images = train_images.shape[1:] # size of the training images\n",
        "ntrain_labels = len(train_labels)\n",
        "\n",
        "print(f\"Shape of training images: {train_images.shape}\")\n",
        "print(f\"Number of training images: {ntrain_images}\")\n",
        "print(f\"Size of training images: {strain_images}\")\n",
        "print(f\"Shape of training labels: {train_labels.shape}\")\n",
        "print(f\"Number of training labels: {ntrain_labels}\")"
      ],
      "metadata": {
        "colab": {
          "base_uri": "https://localhost:8080/"
        },
        "id": "Z9Ag-HEImdK6",
        "outputId": "b60bd5ee-bbc8-4faf-b9a7-855b396163a6"
      },
      "execution_count": 9,
      "outputs": [
        {
          "output_type": "stream",
          "name": "stdout",
          "text": [
            "Shape of training images: (60000, 28, 28)\n",
            "Number of training images: 60000\n",
            "Size of training images: (28, 28)\n",
            "Shape of training labels: (60000,)\n",
            "Number of training labels: 60000\n"
          ]
        }
      ]
    },
    {
      "cell_type": "code",
      "source": [
        "# Testing data\n",
        "ntest_images = len(test_images) # number of test images\n",
        "stest_images = test_images.shape[1:] # size of the test images\n",
        "ntest_labels = len(test_labels)\n",
        "\n",
        "print(f\"Shape of test images: {test_images.shape}\")\n",
        "print(f\"Number of test images: {ntest_images}\")\n",
        "print(f\"Size of test images: {stest_images}\")\n",
        "print(f\"Shape of test labels: {test_labels.shape}\")\n",
        "print(f\"Number of test labels: {ntest_labels}\")"
      ],
      "metadata": {
        "colab": {
          "base_uri": "https://localhost:8080/"
        },
        "id": "eqEgOG8Rm21d",
        "outputId": "54bbcd60-541a-47df-b330-aa6b80d2ba95"
      },
      "execution_count": 10,
      "outputs": [
        {
          "output_type": "stream",
          "name": "stdout",
          "text": [
            "Shape of test images: (10000, 28, 28)\n",
            "Number of test images: 10000\n",
            "Size of test images: (28, 28)\n",
            "Shape of test labels: (10000,)\n",
            "Number of test labels: 10000\n"
          ]
        }
      ]
    },
    {
      "cell_type": "code",
      "source": [
        "import matplotlib.pyplot as plt\n",
        "%matplotlib inline"
      ],
      "metadata": {
        "id": "FrgxDqkLpO2B"
      },
      "execution_count": 12,
      "outputs": []
    },
    {
      "cell_type": "code",
      "source": [
        "# just one sample\n",
        "\n",
        "sample = 1\n",
        "image = train_images[sample]\n",
        "fig = plt.figure()\n",
        "plt.imshow(image, cmap='gray_r') # use cmap='gray' for a black background and white foreground\n",
        "plt.show()"
      ],
      "metadata": {
        "colab": {
          "base_uri": "https://localhost:8080/",
          "height": 265
        },
        "id": "E61G2K_Up6es",
        "outputId": "c1ab5f6a-884d-4514-a6c0-8cc92c214033"
      },
      "execution_count": 15,
      "outputs": [
        {
          "output_type": "display_data",
          "data": {
            "image/png": "[encoded data removed]",
            "text/plain": [
              "<Figure size 432x288 with 1 Axes>"
            ]
          },
          "metadata": {
            "needs_background": "light"
          }
        }
      ]
    },
    {
      "cell_type": "markdown",
      "source": [
        "### Step 4: Data Preprocessing"
      ],
      "metadata": {
        "id": "mx8Nq5DAs2AU"
      }
    },
    {
      "cell_type": "code",
      "source": [
        "def prod(tup):\n",
        "  try:\n",
        "    return tup[0] * tup[1]\n",
        "  except:\n",
        "    return tup[0]"
      ],
      "metadata": {
        "id": "9COezp3auj27"
      },
      "execution_count": 25,
      "outputs": []
    },
    {
      "cell_type": "code",
      "source": [
        "# We will reshape the images\n",
        "# We will normalize i.e the pixel values should take the range [0, 1]\n",
        "\n",
        "train_images = train_images.reshape((len(train_images), prod(train_images.shape[1:])))\n",
        "train_images = train_images.astype(\"float32\") / 255\n",
        "test_images = test_images.reshape(len(test_images), prod(test_images.shape[1:]))\n",
        "test_images = test_images.astype(\"float32\") / 255"
      ],
      "metadata": {
        "id": "8TaxI4EPs8Fq"
      },
      "execution_count": 26,
      "outputs": []
    },
    {
      "cell_type": "markdown",
      "source": [
        "### Step 5: Defining the model"
      ],
      "metadata": {
        "id": "8T0vsx38xBZ4"
      }
    },
    {
      "cell_type": "code",
      "source": [
        "from tensorflow import keras\n",
        "from tensorflow.keras import layers"
      ],
      "metadata": {
        "id": "u0JyivYZw_x6"
      },
      "execution_count": 31,
      "outputs": []
    },
    {
      "cell_type": "code",
      "source": [
        "model = keras.Sequential(\n",
        "    [\n",
        "     layers.Dense(512, activation=\"relu\"),\n",
        "     layers.Dense(10, activation=\"softmax\")\n",
        "    ]\n",
        ")\n",
        "\n",
        "model.compile(optimizer=\"rmsprop\", loss=\"sparse_categorical_crossentropy\", metrics=[\"accuracy\"])"
      ],
      "metadata": {
        "id": "b_PJOewFxady"
      },
      "execution_count": 43,
      "outputs": []
    },
    {
      "cell_type": "markdown",
      "source": [
        "### Step 5: Training the model"
      ],
      "metadata": {
        "id": "DoBm1alCySbu"
      }
    },
    {
      "cell_type": "code",
      "source": [
        "len(train_images)"
      ],
      "metadata": {
        "colab": {
          "base_uri": "https://localhost:8080/"
        },
        "id": "oN0OaNhO1Fd7",
        "outputId": "7830d067-62a7-409c-ce26-9dd056f75765"
      },
      "execution_count": 47,
      "outputs": [
        {
          "output_type": "execute_result",
          "data": {
            "text/plain": [
              "60000"
            ]
          },
          "metadata": {},
          "execution_count": 47
        }
      ]
    },
    {
      "cell_type": "code",
      "source": [
        "model.fit(train_images, train_labels, batch_size=32, epochs=10)"
      ],
      "metadata": {
        "colab": {
          "base_uri": "https://localhost:8080/"
        },
        "id": "cdLJ3V46yRYr",
        "outputId": "07064dee-faf9-4fd9-f34d-bbf538712c0a"
      },
      "execution_count": 51,
      "outputs": [
        {
          "output_type": "stream",
          "name": "stdout",
          "text": [
            "Epoch 1/10\n",
            "1875/1875 [==============================] - 7s 4ms/step - loss: 0.0756 - accuracy: 0.9788\n",
            "Epoch 2/10\n",
            "1875/1875 [==============================] - 7s 4ms/step - loss: 0.0735 - accuracy: 0.9800\n",
            "Epoch 3/10\n",
            "1875/1875 [==============================] - 7s 4ms/step - loss: 0.0713 - accuracy: 0.9804\n",
            "Epoch 4/10\n",
            "1875/1875 [==============================] - 7s 4ms/step - loss: 0.0691 - accuracy: 0.9812\n",
            "Epoch 5/10\n",
            "1875/1875 [==============================] - 7s 4ms/step - loss: 0.0675 - accuracy: 0.9817\n",
            "Epoch 6/10\n",
            "1875/1875 [==============================] - 7s 4ms/step - loss: 0.0652 - accuracy: 0.9823\n",
            "Epoch 7/10\n",
            "1875/1875 [==============================] - 7s 4ms/step - loss: 0.0634 - accuracy: 0.9826\n",
            "Epoch 8/10\n",
            "1875/1875 [==============================] - 7s 4ms/step - loss: 0.0617 - accuracy: 0.9836\n",
            "Epoch 9/10\n",
            "1875/1875 [==============================] - 8s 4ms/step - loss: 0.0599 - accuracy: 0.9837\n",
            "Epoch 10/10\n",
            "1875/1875 [==============================] - 8s 4ms/step - loss: 0.0584 - accuracy: 0.9842\n"
          ]
        },
        {
          "output_type": "execute_result",
          "data": {
            "text/plain": [
              "<keras.callbacks.History at 0x7f48941cde10>"
            ]
          },
          "metadata": {},
          "execution_count": 51
        }
      ]
    },
    {
      "cell_type": "markdown",
      "source": [
        "### Step 6: Testing the model"
      ],
      "metadata": {
        "id": "cyz2K8ki278z"
      }
    },
    {
      "cell_type": "code",
      "source": [
        "test_digits = test_images[0:10]\n",
        "predictions = model.predict(test_digits)\n",
        "predictions[6]"
      ],
      "metadata": {
        "colab": {
          "base_uri": "https://localhost:8080/"
        },
        "id": "z65jdM0f27Vd",
        "outputId": "c1d03f6a-1a6f-43a9-fb34-ae67cb3c958e"
      },
      "execution_count": 54,
      "outputs": [
        {
          "output_type": "execute_result",
          "data": {
            "text/plain": [
              "array([0., 0., 0., 0., 1., 0., 0., 0., 0., 0.], dtype=float32)"
            ]
          },
          "metadata": {},
          "execution_count": 54
        }
      ]
    },
    {
      "cell_type": "code",
      "source": [
        "predictions[6].argmax()"
      ],
      "metadata": {
        "colab": {
          "base_uri": "https://localhost:8080/"
        },
        "id": "ECBrhrcJ3pdd",
        "outputId": "c58be317-5511-4fd9-d5ad-34ca3a8346aa"
      },
      "execution_count": 55,
      "outputs": [
        {
          "output_type": "execute_result",
          "data": {
            "text/plain": [
              "4"
            ]
          },
          "metadata": {},
          "execution_count": 55
        }
      ]
    },
    {
      "cell_type": "code",
      "source": [
        "test_labels[6]"
      ],
      "metadata": {
        "colab": {
          "base_uri": "https://localhost:8080/"
        },
        "id": "sOkp2Uhj3vkP",
        "outputId": "dd87a77e-1638-4102-f7b5-2c343821f28c"
      },
      "execution_count": 57,
      "outputs": [
        {
          "output_type": "execute_result",
          "data": {
            "text/plain": [
              "4"
            ]
          },
          "metadata": {},
          "execution_count": 57
        }
      ]
    },
    {
      "cell_type": "code",
      "source": [
        "test_loss, test_acc = model.evaluate(test_images, test_labels)\n",
        "print(f\"Test Accuracy: {test_acc}\")\n",
        "print(f\"Test Loss: {test_loss}\")"
      ],
      "metadata": {
        "colab": {
          "base_uri": "https://localhost:8080/"
        },
        "id": "VRyvtm_e4bqm",
        "outputId": "42139297-5e21-4d83-aacf-15344827c49a"
      },
      "execution_count": 60,
      "outputs": [
        {
          "output_type": "stream",
          "name": "stdout",
          "text": [
            "313/313 [==============================] - 0s 1ms/step - loss: 42.7631 - accuracy: 0.9540\n",
            "Test Accuracy: 0.9539999961853027\n",
            "Test Loss: 42.76311492919922\n"
          ]
        }
      ]
    },
    {
      "cell_type": "markdown",
      "source": [
        "From the above metrics the model is clearly overfitting"
      ],
      "metadata": {
        "id": "5fKfScbt48k9"
      }
    }
  ]
}