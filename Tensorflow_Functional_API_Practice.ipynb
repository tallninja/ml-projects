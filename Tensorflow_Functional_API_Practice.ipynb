{
  "nbformat": 4,
  "nbformat_minor": 0,
  "metadata": {
    "colab": {
      "name": "Tensorflow_Functional_API_Practice.ipynb",
      "provenance": [],
      "authorship_tag": "ABX9TyM08y8Mr6qpIZ9CIbZHf6oN",
      "include_colab_link": true
    },
    "kernelspec": {
      "name": "python3",
      "display_name": "Python 3"
    },
    "language_info": {
      "name": "python"
    }
  },
  "cells": [
    {
      "cell_type": "markdown",
      "metadata": {
        "id": "view-in-github",
        "colab_type": "text"
      },
      "source": [
        "<a href=\"https://colab.research.google.com/github/tallninja/ml-projects/blob/master/Tensorflow_Functional_API_Practice.ipynb\" target=\"_parent\"><img src=\"https://colab.research.google.com/assets/colab-badge.svg\" alt=\"Open In Colab\"/></a>"
      ]
    },
    {
      "cell_type": "code",
      "execution_count": 2,
      "metadata": {
        "id": "eeMEUp9g3qUo"
      },
      "outputs": [],
      "source": [
        "# Using tensorflow version 2\n",
        "\n",
        "try:\n",
        "  %tensorflow_version 2.x\n",
        "except Exception:\n",
        "  pass\n",
        "\n",
        "# importing modules and libraries\n",
        "import tensorflow as tf\n",
        "from tensorflow.python.keras.utils.vis_utils import plot_model\n",
        "import pydot\n",
        "from tensorflow.keras.models import Model"
      ]
    },
    {
      "cell_type": "markdown",
      "source": [
        "## Sequential API\n",
        "\n",
        "using the sequential class to build amodel"
      ],
      "metadata": {
        "id": "UJJ6ITEI5CYC"
      }
    },
    {
      "cell_type": "code",
      "source": [
        "def build_model_with_sequential():\n",
        "  model = tf.keras.Sequential(\n",
        "      [\n",
        "       tf.keras.layers.Flatten(input_shape=(28, 28)),\n",
        "       tf.keras.layers.Dense(128, activation='relu'),\n",
        "       tf.keras.layers.Dense(10, activation='softmax')\n",
        "      ]\n",
        "  )\n",
        "\n",
        "  return model"
      ],
      "metadata": {
        "id": "KbwGNEhW5O1C"
      },
      "execution_count": 3,
      "outputs": []
    },
    {
      "cell_type": "markdown",
      "source": [
        "## Functional API\n",
        "\n",
        "Using the functional syntax to build a model"
      ],
      "metadata": {
        "id": "3CmpAvkp59AK"
      }
    },
    {
      "cell_type": "code",
      "source": [
        "def build_model_with_functional():\n",
        "  input_layer = tf.keras.layers.Input(shape=(28, 28))\n",
        "  flatten_layer = tf.keras.layers.Flatten()(input_layer)\n",
        "  first_layer = tf.keras.layers.Dense(128, activation='relu')(flatten_layer)\n",
        "  output_layer = tf.keras.layers.Dense(10, activation='softmax')(first_layer)\n",
        "\n",
        "  model = Model(inputs=input_layer, outputs=output_layer)\n",
        "\n",
        "  return model"
      ],
      "metadata": {
        "id": "JeYNBedk55Mm"
      },
      "execution_count": 4,
      "outputs": []
    },
    {
      "cell_type": "code",
      "source": [
        "# Functional Model\n",
        "\n",
        "model = build_model_with_functional()\n",
        "\n",
        "plot_model(model, show_shapes=True, show_layer_names=True, to_file='model.png')"
      ],
      "metadata": {
        "colab": {
          "base_uri": "https://localhost:8080/",
          "height": 422
        },
        "id": "J0DsWiGS7F0A",
        "outputId": "bbda8dc2-aca4-4353-d4e1-08e20217ec41"
      },
      "execution_count": 7,
      "outputs": [
        {
          "output_type": "execute_result",
          "data": {
            "image/png": "[encoded data removed]",
            "text/plain": [
              "<IPython.core.display.Image object>"
            ]
          },
          "metadata": {},
          "execution_count": 7
        }
      ]
    },
    {
      "cell_type": "code",
      "source": [
        "fashion_mnist = tf.keras.datasets.fashion_mnist\n",
        "\n",
        "(training_images, training_labels), (testing_images, testing_labels) = fashion_mnist.load_data()\n",
        "\n",
        "training_images = training_images / 255\n",
        "testing_images = testing_images / 255\n",
        "\n",
        "model.compile(\n",
        "    optimizer='adam',\n",
        "    loss='sparse_categorical_crossentropy',\n",
        "    metrics=['accuracy']\n",
        ")\n",
        "\n",
        "model.fit(training_images, training_labels, epochs=5)\n",
        "model.evaluate(testing_images, testing_labels)"
      ],
      "metadata": {
        "colab": {
          "base_uri": "https://localhost:8080/"
        },
        "id": "FcGb-ASQ7kkD",
        "outputId": "fb38089e-9ab9-4ef9-c7c2-866a89c2dc6b"
      },
      "execution_count": 11,
      "outputs": [
        {
          "output_type": "stream",
          "name": "stdout",
          "text": [
            "Epoch 1/5\n",
            "1875/1875 [==============================] - 5s 2ms/step - loss: 0.2821 - accuracy: 0.8952\n",
            "Epoch 2/5\n",
            "1875/1875 [==============================] - 5s 3ms/step - loss: 0.2679 - accuracy: 0.9004\n",
            "Epoch 3/5\n",
            "1875/1875 [==============================] - 5s 2ms/step - loss: 0.2580 - accuracy: 0.9047\n",
            "Epoch 4/5\n",
            "1875/1875 [==============================] - 5s 3ms/step - loss: 0.2472 - accuracy: 0.9075\n",
            "Epoch 5/5\n",
            "1875/1875 [==============================] - 5s 3ms/step - loss: 0.2407 - accuracy: 0.9103\n",
            "313/313 [==============================] - 1s 2ms/step - loss: 0.3313 - accuracy: 0.8805\n"
          ]
        },
        {
          "output_type": "execute_result",
          "data": {
            "text/plain": [
              "[0.3312942087650299, 0.8805000185966492]"
            ]
          },
          "metadata": {},
          "execution_count": 11
        }
      ]
    },
    {
      "cell_type": "code",
      "source": [
        ""
      ],
      "metadata": {
        "id": "CW6ot_N38H_8"
      },
      "execution_count": null,
      "outputs": []
    }
  ]
}